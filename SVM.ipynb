{
 "cells": [
  {
   "cell_type": "markdown",
   "metadata": {},
   "source": [
    "Theory\n",
    "Support Vecctor Machines\n",
    "goal to obtain a hyperplane to seperate the classes \n",
    "\n",
    "1> Maxmal Margin Classifier\n",
    "hyperplane formula  w1x1 + w2x2 + w0 = 0 \n",
    "\n",
    "if w1x1 + w2x2 +w0 > 1 or <1 then a point lies in one classes outside the decision boundary\n",
    "\n",
    "this method is dependent on a few data points called d support vectors \n",
    "if d data point in d 2 casses shitf the hyperplane does not change. but if the support vectors were to move then d decision boundry changes.\n",
    "\n",
    "\n",
    "2>Support Vector Classifier\n",
    "\n",
    "\n",
    "\n",
    "\n"
   ]
  }
 ],
 "metadata": {
  "kernelspec": {
   "display_name": "Python 3",
   "language": "python",
   "name": "python3"
  },
  "language_info": {
   "codemirror_mode": {
    "name": "ipython",
    "version": 3
   },
   "file_extension": ".py",
   "mimetype": "text/x-python",
   "name": "python",
   "nbconvert_exporter": "python",
   "pygments_lexer": "ipython3",
   "version": "3.6.5"
  }
 },
 "nbformat": 4,
 "nbformat_minor": 2
}
